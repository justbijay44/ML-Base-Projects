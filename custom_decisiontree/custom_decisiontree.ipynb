{
 "cells": [
  {
   "cell_type": "code",
   "execution_count": 1,
   "id": "a0fc5cb4",
   "metadata": {},
   "outputs": [],
   "source": [
    "import numpy as np\n",
    "import pandas as pd\n",
    "import math\n",
    "from collections import Counter"
   ]
  },
  {
   "cell_type": "code",
   "execution_count": 2,
   "id": "271a51a7",
   "metadata": {},
   "outputs": [],
   "source": [
    "class Node:\n",
    "    \n",
    "    # values after '*' must be passed as keyword\n",
    "    # like value = 'Yes' if just 'Yes' will raise error \n",
    "    def __init__(self, feature = None, threshold = None, left = None, right = None, * , value = None):\n",
    "\n",
    "        self.feature = feature\n",
    "        self.threshold = threshold\n",
    "        self.left = left\n",
    "        self.right = right\n",
    "        self.value = value\n",
    "\n",
    "    # Leaf node are those which don't split any further\n",
    "\n",
    "    def is_leaf_node(self):\n",
    "        return self.value is not None\n",
    "        # True if the node is not None"
   ]
  },
  {
   "cell_type": "code",
   "execution_count": 3,
   "id": "7c7921cf",
   "metadata": {},
   "outputs": [
    {
     "name": "stdout",
     "output_type": "stream",
     "text": [
      "(3, 4)\n",
      "3\n",
      "4\n"
     ]
    }
   ],
   "source": [
    "X = np.array([\n",
    "    [5.1, 3.5, 1.4, 0.2],\n",
    "    [4.9, 3.0, 1.4, 0.2],\n",
    "    [4.7, 3.2, 1.3, 0.2]\n",
    "])\n",
    "\n",
    "print(X.shape)    # (3, 4)\n",
    "print(X.shape[0]) # 3 → rows\n",
    "print(X.shape[1]) "
   ]
  },
  {
   "cell_type": "code",
   "execution_count": null,
   "id": "7decd4d4",
   "metadata": {},
   "outputs": [],
   "source": [
    "class DecisionTree:\n",
    "\n",
    "    # n_features are basically the no. of features\n",
    "\n",
    "    def __init__(self, max_depth = 20, min_sample_split = 2, n_features = None):\n",
    "        self.max_depth = max_depth\n",
    "        self.min_sample_split = min_sample_split\n",
    "        self.n_features = n_features\n",
    "        self.root = None\n",
    "\n",
    "    def fit(self, X, y):\n",
    "        self.n_features = X.shape[1] if not self.n_features else min(X.shape[1], self.n_features)\n",
    "        self.root = self._grow_tree(X , y, 0 )\n",
    "    \n",
    "    def _grow_tree(self, X, y, depth):\n",
    "        \n",
    "        # Agains samples are the number of row and feature gives the number of col\n",
    "        n_samples, n_feat = X.shape\n",
    "\n",
    "        # n_labels gets the unique classes from the y\n",
    "        n_labels = len(np.unique(y))\n",
    "\n",
    "        # Checking the stopping crietria\n",
    "        if (depth >= self.max_depth or n_labels == 1 or n_samples < self.min_sample_split):\n",
    "            leaf_value = self._most_common_label(y)\n",
    "            return Node(value=leaf_value)\n",
    "\n",
    "        # Find the best split\n",
    "        feat_idx = np.random.choice(n_feat, self.n_features, replace=False)\n",
    "\n",
    "        best_feature, best_thres = self._best_split(X, y, feat_idx)\n",
    "\n",
    "        # Create the child node\n",
    "        left_idx, right_idx = self._split(X[:, best_feature], best_thres)\n",
    "        left = self._grow_tree(X[left_idx, :], y[left_idx], depth+1)\n",
    "        right = self._grow_tree(X[right_idx, :], y[right_idx], depth+1)\n",
    "        \n",
    "        return Node(feature=best_feature, threshold=best_thres, left=left, right=right)\n",
    "\n",
    "\n",
    "    def _most_common_label(self, y):\n",
    "        count = Counter(y)\n",
    "        value = count.most_common(1)[0][0]\n",
    "        return value\n",
    "    \n",
    "    def _best_split(self, X, y, feat_idx):\n",
    "        best_gain = -1\n",
    "        split_idx, split_threshold = None, None\n",
    "\n",
    "        for idx in feat_idx:\n",
    "            X_col = X[:, idx]\n",
    "            threshold = np.unique(X_col)\n",
    "\n",
    "            for thr in threshold:\n",
    "\n",
    "                # here we need to get the gain\n",
    "                gain = self._information_gain(X_col, y , thr)\n",
    "\n",
    "                if gain > best_gain:\n",
    "                    best_gain = gain\n",
    "                    split_idx = idx\n",
    "                    split_threshold = thr\n",
    "        \n",
    "        return split_idx, split_threshold\n",
    "\n",
    "    def _information_gain(self, X_col, y, threshold):\n",
    "        # parent entropy\n",
    "        parent_entropy = self._entropy(y)\n",
    "\n",
    "        #create children\n",
    "        left_idx, right_idx = self._split(X_col, threshold)\n",
    "\n",
    "        if len(left_idx) == 0 or len(right_idx) == 0:\n",
    "            return 0\n",
    "\n",
    "        #calculate the weight avg. entropy of children (subset)\n",
    "\n",
    "        n = len(y)\n",
    "        n_l, n_r = len(left_idx), len(right_idx)\n",
    "        e_l, e_r = self._entropy(y[left_idx]), self._entropy(y[right_idx])\n",
    "\n",
    "        child_entropy = (n_l/n) * e_l + (n_r/n) * e_r\n",
    "\n",
    "        #calculate  IG\n",
    "        information_gain = parent_entropy - child_entropy\n",
    "        return information_gain\n",
    "\n",
    "    def _entropy(self, y):\n",
    "\n",
    "        # bincount gives a total count of each value [1,1,3] -> [0, 2, 1] its 0 has 0 count 1 has 2 count and 3 has 1 count\n",
    "\n",
    "        hist = np.bincount(y)\n",
    "        ps = hist / len(y)\n",
    "\n",
    "        return -np.sum([p * np.log(p) for p in ps if p > 0])\n",
    "\n",
    "    def _split(self, X_col, split_thres):\n",
    "        left_idxs = np.argwhere(X_col <= split_thres).flatten()\n",
    "        right_idxs = np.argwhere(X_col > split_thres).flatten()\n",
    "\n",
    "        return left_idxs, right_idxs\n",
    "\n",
    "    def predict(self, X):\n",
    "        return np.array([self._traverse_tree(i, self.root) for i in X])\n",
    "    \n",
    "    def _traverse_tree(self, i, node):\n",
    "        if node.is_leaf_node():\n",
    "            return node.value\n",
    "        \n",
    "        if i[node.feature] <= node.threshold:\n",
    "            return self._traverse_tree(i, node.left)\n",
    "        \n",
    "        return self._traverse_tree(i, node.right)"
   ]
  },
  {
   "cell_type": "markdown",
   "id": "5d5f7f51",
   "metadata": {},
   "source": [
    "Entropy basically means disorder of the info\n",
    "- Entropy formula:\n",
    "- H(S)=−∑ pi* ​log2​(pi​) where pi is the probability of occurance of ith outcome"
   ]
  },
  {
   "cell_type": "markdown",
   "id": "dcba2d9a",
   "metadata": {},
   "source": [
    "Information gain measures the entropy reduced after splitting the dataset\n",
    "\n",
    "- IG = Entropy(before split) - Weighted average entropy(after split)"
   ]
  },
  {
   "cell_type": "code",
   "execution_count": 5,
   "id": "6dd08169",
   "metadata": {},
   "outputs": [],
   "source": [
    "from sklearn.datasets import load_breast_cancer\n",
    "from sklearn.model_selection import train_test_split\n",
    "from sklearn.metrics import accuracy_score\n",
    "\n",
    "X, y = load_breast_cancer(return_X_y=True)\n",
    "\n",
    "X_train, X_test, y_train, y_test = train_test_split(\n",
    "    X, y, random_state=42, test_size= 0.2\n",
    ")"
   ]
  },
  {
   "cell_type": "code",
   "execution_count": 6,
   "id": "ad23f89f",
   "metadata": {},
   "outputs": [
    {
     "name": "stdout",
     "output_type": "stream",
     "text": [
      "0.9385964912280702\n"
     ]
    }
   ],
   "source": [
    "dt = DecisionTree(\n",
    "    \n",
    ")\n",
    "\n",
    "dt.fit(X_train, y_train)\n",
    "\n",
    "ydt_pred = dt.predict(X_test)\n",
    "\n",
    "print(accuracy_score(y_test, ydt_pred))"
   ]
  },
  {
   "cell_type": "code",
   "execution_count": 8,
   "id": "887c2c60",
   "metadata": {},
   "outputs": [
    {
     "name": "stdout",
     "output_type": "stream",
     "text": [
      "0.9473684210526315\n"
     ]
    }
   ],
   "source": [
    "from sklearn.tree import DecisionTreeClassifier\n",
    "\n",
    "tree = DecisionTreeClassifier()\n",
    "\n",
    "tree.fit(X_train, y_train)\n",
    "\n",
    "ydt_pred = tree.predict(X_test)\n",
    "\n",
    "print(accuracy_score(y_test, ydt_pred))"
   ]
  },
  {
   "cell_type": "code",
   "execution_count": null,
   "id": "83981196",
   "metadata": {},
   "outputs": [],
   "source": []
  }
 ],
 "metadata": {
  "kernelspec": {
   "display_name": "venv",
   "language": "python",
   "name": "python3"
  },
  "language_info": {
   "codemirror_mode": {
    "name": "ipython",
    "version": 3
   },
   "file_extension": ".py",
   "mimetype": "text/x-python",
   "name": "python",
   "nbconvert_exporter": "python",
   "pygments_lexer": "ipython3",
   "version": "3.12.4"
  }
 },
 "nbformat": 4,
 "nbformat_minor": 5
}
